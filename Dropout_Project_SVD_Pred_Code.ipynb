{
 "cells": [
  {
   "cell_type": "markdown",
   "metadata": {},
   "source": [
    "# Dropout Prediction with SVD-Selected Predictors"
   ]
  },
  {
   "cell_type": "markdown",
   "metadata": {},
   "source": [
    "Singular value decomposition (SVD) is the fact that any matrix $X\\in\\mathbb{R}^{m\\times n}$ can be decomposed as\n",
    "$$X = U\\Sigma V^T$$\n",
    "where $U\\in\\mathbb{R}^{m\\times m}, V^T\\in\\mathbb{R}^{n\\times n}$ are orthogonal matrices of orthonormal basis vectors, and $\\Sigma\\in\\mathbb{R}^{m\\times n}$ is a diagonal matrix of singular values $\\sigma_1 \\geq \\ldots \\geq \\sigma_r\\geq 0$, where $r$ is the rank of matrix $X$. Since $U$ and $V^T$ contain orthonormal vectors, they do not need to be scaled \\citep{SVD}. Similar to principal component analysis, the proportion of variance explained for $j$ out of $r$ components is modeled by $\\frac{\\sum_{i=1}^j \\sigma_i}{\\sum_{i=1}^r \\sigma_i}$. I will choose $j\\in\\mathbb{Z}^+$ such that 95\\% of the data's variance is explained. Then the $j$-dimensional representation of the data will be multiplying the matrix of the first $j$ column vectors of $U$ with the $j\\times j$ matrix of the first $j$ singular values.\n",
    "\n",
    "Both ensemble and baseline machine learning models are used to predict whether a given student dropped out, is enrolled, or graduated from a degree program. The ensemble models are random forest and AdaBoost. A decision tree, support vector machine (SVM), k-nearest neighbors (KNN), and logistic regression model is each fit, as well.\n",
    "\n",
    "5-fold cross validation is used to optimally tune the hyperparameters of each model.\n",
    "\n",
    "The performance of each classification model is measured by the following metrics: accuracy, precision (conditional probability of the model correctly classifying a point given the true classification), recall (true positive rate), and F1 score (harmonic average of precision and recall, a measure of how balanced precision and recall are). Calculation of each of these metrics were done using scikit-learn's metrics module in Python. The precision, recall, and F1 score are weighted due to the imbalance of the response variable."
   ]
  },
  {
   "cell_type": "code",
   "execution_count": 1,
   "metadata": {},
   "outputs": [],
   "source": [
    "import pandas as pd \n",
    "import numpy as np \n",
    "import matplotlib.pyplot as plt \n",
    "%matplotlib inline\n",
    "from sklearn.ensemble import RandomForestClassifier, AdaBoostClassifier\n",
    "from sklearn.tree import DecisionTreeClassifier\n",
    "from sklearn.svm import SVC\n",
    "from sklearn.neighbors import KNeighborsClassifier\n",
    "from sklearn.linear_model import LogisticRegression\n",
    "from sklearn.model_selection import KFold, GridSearchCV, train_test_split\n",
    "from sklearn.metrics import accuracy_score, precision_score, recall_score, f1_score\n",
    "import warnings"
   ]
  },
  {
   "cell_type": "code",
   "execution_count": 2,
   "metadata": {},
   "outputs": [
    {
     "data": {
      "text/html": [
       "<div>\n",
       "<style scoped>\n",
       "    .dataframe tbody tr th:only-of-type {\n",
       "        vertical-align: middle;\n",
       "    }\n",
       "\n",
       "    .dataframe tbody tr th {\n",
       "        vertical-align: top;\n",
       "    }\n",
       "\n",
       "    .dataframe thead th {\n",
       "        text-align: right;\n",
       "    }\n",
       "</style>\n",
       "<table border=\"1\" class=\"dataframe\">\n",
       "  <thead>\n",
       "    <tr style=\"text-align: right;\">\n",
       "      <th></th>\n",
       "      <th>Marital status</th>\n",
       "      <th>Application mode</th>\n",
       "      <th>Application order</th>\n",
       "      <th>Course</th>\n",
       "      <th>Daytime/evening attendance\\t</th>\n",
       "      <th>Previous qualification</th>\n",
       "      <th>Previous qualification (grade)</th>\n",
       "      <th>Nacionality</th>\n",
       "      <th>Mother's qualification</th>\n",
       "      <th>Father's qualification</th>\n",
       "      <th>...</th>\n",
       "      <th>Curricular units 2nd sem (credited)</th>\n",
       "      <th>Curricular units 2nd sem (enrolled)</th>\n",
       "      <th>Curricular units 2nd sem (evaluations)</th>\n",
       "      <th>Curricular units 2nd sem (approved)</th>\n",
       "      <th>Curricular units 2nd sem (grade)</th>\n",
       "      <th>Curricular units 2nd sem (without evaluations)</th>\n",
       "      <th>Unemployment rate</th>\n",
       "      <th>Inflation rate</th>\n",
       "      <th>GDP</th>\n",
       "      <th>Target</th>\n",
       "    </tr>\n",
       "  </thead>\n",
       "  <tbody>\n",
       "    <tr>\n",
       "      <th>0</th>\n",
       "      <td>1</td>\n",
       "      <td>17</td>\n",
       "      <td>5</td>\n",
       "      <td>171</td>\n",
       "      <td>1</td>\n",
       "      <td>1</td>\n",
       "      <td>122.0</td>\n",
       "      <td>1</td>\n",
       "      <td>19</td>\n",
       "      <td>12</td>\n",
       "      <td>...</td>\n",
       "      <td>0</td>\n",
       "      <td>0</td>\n",
       "      <td>0</td>\n",
       "      <td>0</td>\n",
       "      <td>0.000000</td>\n",
       "      <td>0</td>\n",
       "      <td>10.8</td>\n",
       "      <td>1.4</td>\n",
       "      <td>1.74</td>\n",
       "      <td>Dropout</td>\n",
       "    </tr>\n",
       "    <tr>\n",
       "      <th>1</th>\n",
       "      <td>1</td>\n",
       "      <td>15</td>\n",
       "      <td>1</td>\n",
       "      <td>9254</td>\n",
       "      <td>1</td>\n",
       "      <td>1</td>\n",
       "      <td>160.0</td>\n",
       "      <td>1</td>\n",
       "      <td>1</td>\n",
       "      <td>3</td>\n",
       "      <td>...</td>\n",
       "      <td>0</td>\n",
       "      <td>6</td>\n",
       "      <td>6</td>\n",
       "      <td>6</td>\n",
       "      <td>13.666667</td>\n",
       "      <td>0</td>\n",
       "      <td>13.9</td>\n",
       "      <td>-0.3</td>\n",
       "      <td>0.79</td>\n",
       "      <td>Graduate</td>\n",
       "    </tr>\n",
       "    <tr>\n",
       "      <th>2</th>\n",
       "      <td>1</td>\n",
       "      <td>1</td>\n",
       "      <td>5</td>\n",
       "      <td>9070</td>\n",
       "      <td>1</td>\n",
       "      <td>1</td>\n",
       "      <td>122.0</td>\n",
       "      <td>1</td>\n",
       "      <td>37</td>\n",
       "      <td>37</td>\n",
       "      <td>...</td>\n",
       "      <td>0</td>\n",
       "      <td>6</td>\n",
       "      <td>0</td>\n",
       "      <td>0</td>\n",
       "      <td>0.000000</td>\n",
       "      <td>0</td>\n",
       "      <td>10.8</td>\n",
       "      <td>1.4</td>\n",
       "      <td>1.74</td>\n",
       "      <td>Dropout</td>\n",
       "    </tr>\n",
       "    <tr>\n",
       "      <th>3</th>\n",
       "      <td>1</td>\n",
       "      <td>17</td>\n",
       "      <td>2</td>\n",
       "      <td>9773</td>\n",
       "      <td>1</td>\n",
       "      <td>1</td>\n",
       "      <td>122.0</td>\n",
       "      <td>1</td>\n",
       "      <td>38</td>\n",
       "      <td>37</td>\n",
       "      <td>...</td>\n",
       "      <td>0</td>\n",
       "      <td>6</td>\n",
       "      <td>10</td>\n",
       "      <td>5</td>\n",
       "      <td>12.400000</td>\n",
       "      <td>0</td>\n",
       "      <td>9.4</td>\n",
       "      <td>-0.8</td>\n",
       "      <td>-3.12</td>\n",
       "      <td>Graduate</td>\n",
       "    </tr>\n",
       "    <tr>\n",
       "      <th>4</th>\n",
       "      <td>2</td>\n",
       "      <td>39</td>\n",
       "      <td>1</td>\n",
       "      <td>8014</td>\n",
       "      <td>0</td>\n",
       "      <td>1</td>\n",
       "      <td>100.0</td>\n",
       "      <td>1</td>\n",
       "      <td>37</td>\n",
       "      <td>38</td>\n",
       "      <td>...</td>\n",
       "      <td>0</td>\n",
       "      <td>6</td>\n",
       "      <td>6</td>\n",
       "      <td>6</td>\n",
       "      <td>13.000000</td>\n",
       "      <td>0</td>\n",
       "      <td>13.9</td>\n",
       "      <td>-0.3</td>\n",
       "      <td>0.79</td>\n",
       "      <td>Graduate</td>\n",
       "    </tr>\n",
       "  </tbody>\n",
       "</table>\n",
       "<p>5 rows × 37 columns</p>\n",
       "</div>"
      ],
      "text/plain": [
       "   Marital status  Application mode  Application order  Course  \\\n",
       "0               1                17                  5     171   \n",
       "1               1                15                  1    9254   \n",
       "2               1                 1                  5    9070   \n",
       "3               1                17                  2    9773   \n",
       "4               2                39                  1    8014   \n",
       "\n",
       "   Daytime/evening attendance\\t  Previous qualification  \\\n",
       "0                             1                       1   \n",
       "1                             1                       1   \n",
       "2                             1                       1   \n",
       "3                             1                       1   \n",
       "4                             0                       1   \n",
       "\n",
       "   Previous qualification (grade)  Nacionality  Mother's qualification  \\\n",
       "0                           122.0            1                      19   \n",
       "1                           160.0            1                       1   \n",
       "2                           122.0            1                      37   \n",
       "3                           122.0            1                      38   \n",
       "4                           100.0            1                      37   \n",
       "\n",
       "   Father's qualification  ...  Curricular units 2nd sem (credited)  \\\n",
       "0                      12  ...                                    0   \n",
       "1                       3  ...                                    0   \n",
       "2                      37  ...                                    0   \n",
       "3                      37  ...                                    0   \n",
       "4                      38  ...                                    0   \n",
       "\n",
       "   Curricular units 2nd sem (enrolled)  \\\n",
       "0                                    0   \n",
       "1                                    6   \n",
       "2                                    6   \n",
       "3                                    6   \n",
       "4                                    6   \n",
       "\n",
       "   Curricular units 2nd sem (evaluations)  \\\n",
       "0                                       0   \n",
       "1                                       6   \n",
       "2                                       0   \n",
       "3                                      10   \n",
       "4                                       6   \n",
       "\n",
       "   Curricular units 2nd sem (approved)  Curricular units 2nd sem (grade)  \\\n",
       "0                                    0                          0.000000   \n",
       "1                                    6                         13.666667   \n",
       "2                                    0                          0.000000   \n",
       "3                                    5                         12.400000   \n",
       "4                                    6                         13.000000   \n",
       "\n",
       "   Curricular units 2nd sem (without evaluations)  Unemployment rate  \\\n",
       "0                                               0               10.8   \n",
       "1                                               0               13.9   \n",
       "2                                               0               10.8   \n",
       "3                                               0                9.4   \n",
       "4                                               0               13.9   \n",
       "\n",
       "   Inflation rate   GDP    Target  \n",
       "0             1.4  1.74   Dropout  \n",
       "1            -0.3  0.79  Graduate  \n",
       "2             1.4  1.74   Dropout  \n",
       "3            -0.8 -3.12  Graduate  \n",
       "4            -0.3  0.79  Graduate  \n",
       "\n",
       "[5 rows x 37 columns]"
      ]
     },
     "execution_count": 2,
     "metadata": {},
     "output_type": "execute_result"
    }
   ],
   "source": [
    "df = pd.read_csv(\"data.csv\", delimiter=\";\")\n",
    "df.head()"
   ]
  },
  {
   "cell_type": "code",
   "execution_count": 3,
   "metadata": {},
   "outputs": [],
   "source": [
    "df.drop(columns=[\"Previous qualification\"], inplace=True)"
   ]
  },
  {
   "cell_type": "code",
   "execution_count": 4,
   "metadata": {},
   "outputs": [
    {
     "data": {
      "text/html": [
       "<div>\n",
       "<style scoped>\n",
       "    .dataframe tbody tr th:only-of-type {\n",
       "        vertical-align: middle;\n",
       "    }\n",
       "\n",
       "    .dataframe tbody tr th {\n",
       "        vertical-align: top;\n",
       "    }\n",
       "\n",
       "    .dataframe thead th {\n",
       "        text-align: right;\n",
       "    }\n",
       "</style>\n",
       "<table border=\"1\" class=\"dataframe\">\n",
       "  <thead>\n",
       "    <tr style=\"text-align: right;\">\n",
       "      <th></th>\n",
       "      <th>Application order</th>\n",
       "      <th>Previous qualification (grade)</th>\n",
       "      <th>Admission grade</th>\n",
       "      <th>Age at enrollment</th>\n",
       "      <th>Curricular units 1st sem (credited)</th>\n",
       "      <th>Curricular units 1st sem (enrolled)</th>\n",
       "      <th>Curricular units 1st sem (evaluations)</th>\n",
       "      <th>Curricular units 1st sem (approved)</th>\n",
       "      <th>Curricular units 1st sem (grade)</th>\n",
       "      <th>Curricular units 1st sem (without evaluations)</th>\n",
       "      <th>...</th>\n",
       "      <th>Course_9853</th>\n",
       "      <th>Course_9991</th>\n",
       "      <th>Gender_1</th>\n",
       "      <th>Displaced_1</th>\n",
       "      <th>Educational special needs_1</th>\n",
       "      <th>Debtor_1</th>\n",
       "      <th>Tuition fees up to date_1</th>\n",
       "      <th>Scholarship holder_1</th>\n",
       "      <th>International_1</th>\n",
       "      <th>Daytime/evening attendance\\t_1</th>\n",
       "    </tr>\n",
       "  </thead>\n",
       "  <tbody>\n",
       "    <tr>\n",
       "      <th>0</th>\n",
       "      <td>5</td>\n",
       "      <td>122.0</td>\n",
       "      <td>127.3</td>\n",
       "      <td>20</td>\n",
       "      <td>0</td>\n",
       "      <td>0</td>\n",
       "      <td>0</td>\n",
       "      <td>0</td>\n",
       "      <td>0.000000</td>\n",
       "      <td>0</td>\n",
       "      <td>...</td>\n",
       "      <td>False</td>\n",
       "      <td>False</td>\n",
       "      <td>True</td>\n",
       "      <td>True</td>\n",
       "      <td>False</td>\n",
       "      <td>False</td>\n",
       "      <td>True</td>\n",
       "      <td>False</td>\n",
       "      <td>False</td>\n",
       "      <td>True</td>\n",
       "    </tr>\n",
       "    <tr>\n",
       "      <th>1</th>\n",
       "      <td>1</td>\n",
       "      <td>160.0</td>\n",
       "      <td>142.5</td>\n",
       "      <td>19</td>\n",
       "      <td>0</td>\n",
       "      <td>6</td>\n",
       "      <td>6</td>\n",
       "      <td>6</td>\n",
       "      <td>14.000000</td>\n",
       "      <td>0</td>\n",
       "      <td>...</td>\n",
       "      <td>False</td>\n",
       "      <td>False</td>\n",
       "      <td>True</td>\n",
       "      <td>True</td>\n",
       "      <td>False</td>\n",
       "      <td>False</td>\n",
       "      <td>False</td>\n",
       "      <td>False</td>\n",
       "      <td>False</td>\n",
       "      <td>True</td>\n",
       "    </tr>\n",
       "    <tr>\n",
       "      <th>2</th>\n",
       "      <td>5</td>\n",
       "      <td>122.0</td>\n",
       "      <td>124.8</td>\n",
       "      <td>19</td>\n",
       "      <td>0</td>\n",
       "      <td>6</td>\n",
       "      <td>0</td>\n",
       "      <td>0</td>\n",
       "      <td>0.000000</td>\n",
       "      <td>0</td>\n",
       "      <td>...</td>\n",
       "      <td>False</td>\n",
       "      <td>False</td>\n",
       "      <td>True</td>\n",
       "      <td>True</td>\n",
       "      <td>False</td>\n",
       "      <td>False</td>\n",
       "      <td>False</td>\n",
       "      <td>False</td>\n",
       "      <td>False</td>\n",
       "      <td>True</td>\n",
       "    </tr>\n",
       "    <tr>\n",
       "      <th>3</th>\n",
       "      <td>2</td>\n",
       "      <td>122.0</td>\n",
       "      <td>119.6</td>\n",
       "      <td>20</td>\n",
       "      <td>0</td>\n",
       "      <td>6</td>\n",
       "      <td>8</td>\n",
       "      <td>6</td>\n",
       "      <td>13.428571</td>\n",
       "      <td>0</td>\n",
       "      <td>...</td>\n",
       "      <td>False</td>\n",
       "      <td>False</td>\n",
       "      <td>False</td>\n",
       "      <td>True</td>\n",
       "      <td>False</td>\n",
       "      <td>False</td>\n",
       "      <td>True</td>\n",
       "      <td>False</td>\n",
       "      <td>False</td>\n",
       "      <td>True</td>\n",
       "    </tr>\n",
       "    <tr>\n",
       "      <th>4</th>\n",
       "      <td>1</td>\n",
       "      <td>100.0</td>\n",
       "      <td>141.5</td>\n",
       "      <td>45</td>\n",
       "      <td>0</td>\n",
       "      <td>6</td>\n",
       "      <td>9</td>\n",
       "      <td>5</td>\n",
       "      <td>12.333333</td>\n",
       "      <td>0</td>\n",
       "      <td>...</td>\n",
       "      <td>False</td>\n",
       "      <td>False</td>\n",
       "      <td>False</td>\n",
       "      <td>False</td>\n",
       "      <td>False</td>\n",
       "      <td>False</td>\n",
       "      <td>True</td>\n",
       "      <td>False</td>\n",
       "      <td>False</td>\n",
       "      <td>False</td>\n",
       "    </tr>\n",
       "  </tbody>\n",
       "</table>\n",
       "<p>5 rows × 223 columns</p>\n",
       "</div>"
      ],
      "text/plain": [
       "   Application order  Previous qualification (grade)  Admission grade  \\\n",
       "0                  5                           122.0            127.3   \n",
       "1                  1                           160.0            142.5   \n",
       "2                  5                           122.0            124.8   \n",
       "3                  2                           122.0            119.6   \n",
       "4                  1                           100.0            141.5   \n",
       "\n",
       "   Age at enrollment  Curricular units 1st sem (credited)  \\\n",
       "0                 20                                    0   \n",
       "1                 19                                    0   \n",
       "2                 19                                    0   \n",
       "3                 20                                    0   \n",
       "4                 45                                    0   \n",
       "\n",
       "   Curricular units 1st sem (enrolled)  \\\n",
       "0                                    0   \n",
       "1                                    6   \n",
       "2                                    6   \n",
       "3                                    6   \n",
       "4                                    6   \n",
       "\n",
       "   Curricular units 1st sem (evaluations)  \\\n",
       "0                                       0   \n",
       "1                                       6   \n",
       "2                                       0   \n",
       "3                                       8   \n",
       "4                                       9   \n",
       "\n",
       "   Curricular units 1st sem (approved)  Curricular units 1st sem (grade)  \\\n",
       "0                                    0                          0.000000   \n",
       "1                                    6                         14.000000   \n",
       "2                                    0                          0.000000   \n",
       "3                                    6                         13.428571   \n",
       "4                                    5                         12.333333   \n",
       "\n",
       "   Curricular units 1st sem (without evaluations)  ...  Course_9853  \\\n",
       "0                                               0  ...        False   \n",
       "1                                               0  ...        False   \n",
       "2                                               0  ...        False   \n",
       "3                                               0  ...        False   \n",
       "4                                               0  ...        False   \n",
       "\n",
       "   Course_9991  Gender_1  Displaced_1  Educational special needs_1  Debtor_1  \\\n",
       "0        False      True         True                        False     False   \n",
       "1        False      True         True                        False     False   \n",
       "2        False      True         True                        False     False   \n",
       "3        False     False         True                        False     False   \n",
       "4        False     False        False                        False     False   \n",
       "\n",
       "   Tuition fees up to date_1  Scholarship holder_1  International_1  \\\n",
       "0                       True                 False            False   \n",
       "1                      False                 False            False   \n",
       "2                      False                 False            False   \n",
       "3                       True                 False            False   \n",
       "4                       True                 False            False   \n",
       "\n",
       "   Daytime/evening attendance\\t_1  \n",
       "0                            True  \n",
       "1                            True  \n",
       "2                            True  \n",
       "3                            True  \n",
       "4                           False  \n",
       "\n",
       "[5 rows x 223 columns]"
      ]
     },
     "execution_count": 4,
     "metadata": {},
     "output_type": "execute_result"
    }
   ],
   "source": [
    "categorical_cols = [\"Mother\\'s qualification\", \"Father\\'s qualification\",\"Mother\\'s occupation\", \"Father\\'s occupation\",\\\n",
    "                    \"Marital status\", \"Nacionality\", \"Application mode\", \"Course\", \"Gender\", \"Displaced\", \"Educational special needs\",\\\n",
    "                    \"Debtor\", \"Tuition fees up to date\", \"Scholarship holder\", \"International\", \"Daytime/evening attendance\\t\"]\n",
    "\n",
    "df_encoded = pd.get_dummies(df, columns=categorical_cols, drop_first=True)\n",
    "df_encoded[\"Target\"] = df[\"Target\"].map({\"Dropout\": 0, \"Enrolled\": 1, \"Graduate\": 2})\n",
    "\n",
    "df_encoded.head()"
   ]
  },
  {
   "cell_type": "code",
   "execution_count": 5,
   "metadata": {},
   "outputs": [],
   "source": [
    "# separate into X and y values\n",
    "X = df_encoded.drop(columns=\"Target\")\n",
    "y = df_encoded[\"Target\"]"
   ]
  },
  {
   "cell_type": "markdown",
   "metadata": {},
   "source": [
    "# Singular Value Decomposition"
   ]
  },
  {
   "cell_type": "code",
   "execution_count": 6,
   "metadata": {},
   "outputs": [],
   "source": [
    "U, S, VT = np.linalg.svd(X.astype(float))"
   ]
  },
  {
   "cell_type": "code",
   "execution_count": 7,
   "metadata": {},
   "outputs": [
    {
     "data": {
      "image/png": "[encoded data removed]",
      "text/plain": [
       "<Figure size 640x480 with 1 Axes>"
      ]
     },
     "metadata": {},
     "output_type": "display_data"
    }
   ],
   "source": [
    "# scree plot\n",
    "plt.plot(np.arange(1, len(S) + 1), S)\n",
    "plt.xlabel(\"Component Number\")\n",
    "plt.ylabel(\"Singular Value\")\n",
    "plt.title(\"Scree Plot for SVD\")\n",
    "plt.show()"
   ]
  },
  {
   "cell_type": "code",
   "execution_count": 8,
   "metadata": {},
   "outputs": [],
   "source": [
    "prop_var_explained = np.cumsum(S)/np.sum(S)"
   ]
  },
  {
   "cell_type": "markdown",
   "metadata": {},
   "source": [
    "By our scree plot, it is apparent that 36 SVD predictors preserves 95% of the variance in the data. And so each classification model will be trained with 36 predictors."
   ]
  },
  {
   "cell_type": "code",
   "execution_count": 9,
   "metadata": {},
   "outputs": [
    {
     "data": {
      "text/plain": [
       "36"
      ]
     },
     "execution_count": 9,
     "metadata": {},
     "output_type": "execute_result"
    }
   ],
   "source": [
    "n_components = np.where(prop_var_explained > 0.95)[0][0]\n",
    "n_components+1"
   ]
  },
  {
   "cell_type": "code",
   "execution_count": 10,
   "metadata": {},
   "outputs": [],
   "source": [
    "# transformed data\n",
    "X_reduced = U[:, :n_components]@np.diag(S[:n_components])"
   ]
  },
  {
   "cell_type": "code",
   "execution_count": 11,
   "metadata": {},
   "outputs": [],
   "source": [
    "np.random.seed(1) # for reproducibility\n",
    "\n",
    "# 5-fold cross validation\n",
    "cv = KFold(n_splits=5, shuffle=True)\n",
    "\n",
    "# 80/20 train/test split\n",
    "X_train, X_test, y_train, y_test = train_test_split(X_reduced, y, test_size=0.2, shuffle=True)\n",
    "\n",
    "# clearly unbalanced responses, so will set class weights\n",
    "class_weights = {c: 1.0/np.sum(y_train == c) for c in np.unique(y_train)}"
   ]
  },
  {
   "cell_type": "markdown",
   "metadata": {},
   "source": [
    "# Random Forest"
   ]
  },
  {
   "cell_type": "code",
   "execution_count": 12,
   "metadata": {},
   "outputs": [
    {
     "name": "stdout",
     "output_type": "stream",
     "text": [
      "Random Forest\n",
      "Accuracy: 0.7435028248587571\n",
      "Precision: 0.8358510039715734\n",
      "Recall: 0.7435028248587571\n",
      "F1 Score: 0.7769336914794144\n"
     ]
    }
   ],
   "source": [
    "np.random.seed(1) # for reproducibility\n",
    "\n",
    "# 5-fold CV grid search\n",
    "rf_params = {\"n_estimators\": range(100, 400, 100), \"warm_start\": [True, False]}\n",
    "rf_gs = GridSearchCV(RandomForestClassifier(class_weight=class_weights), param_grid=rf_params, cv=cv).fit(X_train, y_train)\n",
    "\n",
    "# fit random forest model and make predictions\n",
    "rf_model = RandomForestClassifier(**rf_gs.best_params_, class_weight=class_weights).fit(X_train, y_train)\n",
    "predictions = rf_model.predict(X_test)\n",
    "\n",
    "# performance metrics\n",
    "print(\"Random Forest\")\n",
    "print(f\"Accuracy: {accuracy_score(predictions, y_test)}\\nPrecision: {precision_score(predictions, y_test, average='weighted')}\")\n",
    "print(f\"Recall: {recall_score(predictions, y_test, average='weighted')}\\nF1 Score: {f1_score(predictions, y_test, average='weighted')}\")"
   ]
  },
  {
   "cell_type": "markdown",
   "metadata": {},
   "source": [
    "# AdaBoost"
   ]
  },
  {
   "cell_type": "code",
   "execution_count": 13,
   "metadata": {},
   "outputs": [
    {
     "name": "stdout",
     "output_type": "stream",
     "text": [
      "AdaBoost\n",
      "Accuracy: 0.6338983050847458\n",
      "Precision: 0.8593402569958304\n",
      "Recall: 0.6338983050847458\n",
      "F1 Score: 0.7105380800828954\n"
     ]
    },
    {
     "name": "stderr",
     "output_type": "stream",
     "text": [
      "c:\\Users\\tydav\\anaconda3\\Lib\\site-packages\\sklearn\\metrics\\_classification.py:1531: UndefinedMetricWarning: Recall is ill-defined and being set to 0.0 in labels with no true samples. Use `zero_division` parameter to control this behavior.\n",
      "  _warn_prf(average, modifier, f\"{metric.capitalize()} is\", len(result))\n"
     ]
    }
   ],
   "source": [
    "np.random.seed(1) # for reproducibility\n",
    "\n",
    "# 5-fold CV grid search\n",
    "adaboost_params = {\"n_estimators\": range(100, 400, 100), \"learning_rate\": np.arange(0.001, 10, 100)}\n",
    "adaboost_gs = GridSearchCV(AdaBoostClassifier(algorithm=\"SAMME\"), param_grid=adaboost_params, cv=cv).fit(X_train, y_train)\n",
    "\n",
    "# fit AdaBoost model and make predictions\n",
    "adaboost_model = AdaBoostClassifier(**adaboost_gs.best_params_, algorithm=\"SAMME\").fit(X_train, y_train)\n",
    "predictions = adaboost_model.predict(X_test)\n",
    "\n",
    "# performance metrics\n",
    "print(\"AdaBoost\")\n",
    "print(f\"Accuracy: {accuracy_score(predictions, y_test)}\\nPrecision: {precision_score(predictions, y_test, average='weighted')}\")\n",
    "print(f\"Recall: {recall_score(predictions, y_test, average='weighted')}\\nF1 Score: {f1_score(predictions, y_test, average='weighted')}\")"
   ]
  },
  {
   "cell_type": "markdown",
   "metadata": {},
   "source": [
    "# Classification Tree"
   ]
  },
  {
   "cell_type": "code",
   "execution_count": null,
   "metadata": {},
   "outputs": [
    {
     "name": "stdout",
     "output_type": "stream",
     "text": [
      "Classification Tree\n",
      "Accuracy: 0.6519774011299435\n",
      "Precision: 0.665084454374685\n",
      "Recall: 0.6519774011299435\n",
      "F1 Score: 0.6578510277582306\n"
     ]
    }
   ],
   "source": [
    "np.random.seed(1) # for reproducibility\n",
    "\n",
    "# fit tree model and make predictions\n",
    "cart_model = DecisionTreeClassifier(class_weight=class_weights).fit(X_train, y_train)\n",
    "predictions = cart_model.predict(X_test)\n",
    "\n",
    "# performance metrics\n",
    "print(\"Classification Tree\")\n",
    "print(f\"Accuracy: {accuracy_score(predictions, y_test)}\\nPrecision: {precision_score(predictions, y_test, average='weighted')}\")\n",
    "print(f\"Recall: {recall_score(predictions, y_test, average='weighted')}\\nF1 Score: {f1_score(predictions, y_test, average='weighted')}\")"
   ]
  },
  {
   "cell_type": "markdown",
   "metadata": {},
   "source": [
    "# Support Vector Machine"
   ]
  },
  {
   "cell_type": "code",
   "execution_count": null,
   "metadata": {},
   "outputs": [
    {
     "name": "stdout",
     "output_type": "stream",
     "text": [
      "Support Vector Machine\n",
      "Accuracy: 0.7593220338983051\n",
      "Precision: 0.8130631928728919\n",
      "Recall: 0.7593220338983051\n",
      "F1 Score: 0.7777230742695982\n"
     ]
    }
   ],
   "source": [
    "np.random.seed(1) # for reproducibility\n",
    "\n",
    "# 5-fold CV grid search\n",
    "svm_params = {\"kernel\": [\"linear\", \"poly\", \"rbf\"]}\n",
    "svm_gs = GridSearchCV(SVC(class_weight=class_weights), param_grid=svm_params, cv=cv).fit(X_train, y_train)\n",
    "\n",
    "# fit SVM model and make predictions\n",
    "svm_model = SVC(**svm_gs.best_params_).fit(X_train, y_train)\n",
    "predictions = svm_model.predict(X_test)\n",
    "\n",
    "# performance metrics\n",
    "print(\"Support Vector Machine\")\n",
    "print(f\"Accuracy: {accuracy_score(predictions, y_test)}\\nPrecision: {precision_score(predictions, y_test, average='weighted')}\")\n",
    "print(f\"Recall: {recall_score(predictions, y_test, average='weighted')}\\nF1 Score: {f1_score(predictions, y_test, average='weighted')}\")"
   ]
  },
  {
   "cell_type": "markdown",
   "metadata": {},
   "source": [
    "# k-Nearest Neighbors"
   ]
  },
  {
   "cell_type": "code",
   "execution_count": null,
   "metadata": {},
   "outputs": [
    {
     "name": "stdout",
     "output_type": "stream",
     "text": [
      "k-Nearest Neighbors\n",
      "Accuracy: 0.7152542372881356\n",
      "Precision: 0.8262693042537782\n",
      "Recall: 0.7152542372881356\n",
      "F1 Score: 0.7493012193259624\n"
     ]
    }
   ],
   "source": [
    "np.random.seed(1) # for reproducibility\n",
    "\n",
    "# 5-fold CV grid search\n",
    "knn_params = {\"n_neighbors\": range(3, 31, 2), \"metric\": [\"manhattan\", \"cosine\", \"euclidean\"]}\n",
    "knn_gs = GridSearchCV(KNeighborsClassifier(), param_grid=knn_params, cv=cv).fit(X_train, y_train)\n",
    "\n",
    "# fit KNN model and make predictions\n",
    "knn_model = KNeighborsClassifier(**knn_gs.best_params_).fit(X_train, y_train)\n",
    "predictions = knn_model.predict(X_test)\n",
    "\n",
    "# performance metrics\n",
    "print(\"k-Nearest Neighbors\")\n",
    "print(f\"Accuracy: {accuracy_score(predictions, y_test)}\\nPrecision: {precision_score(predictions, y_test, average='weighted')}\")\n",
    "print(f\"Recall: {recall_score(predictions, y_test, average='weighted')}\\nF1 Score: {f1_score(predictions, y_test, average='weighted')}\")"
   ]
  },
  {
   "cell_type": "markdown",
   "metadata": {},
   "source": [
    "# Logistic Regression"
   ]
  },
  {
   "cell_type": "code",
   "execution_count": null,
   "metadata": {},
   "outputs": [
    {
     "name": "stdout",
     "output_type": "stream",
     "text": [
      "Logistic Regression\n",
      "Accuracy: 0.7638418079096045\n",
      "Precision: 0.8444778551806978\n",
      "Recall: 0.7638418079096045\n",
      "F1 Score: 0.7940017949248003\n"
     ]
    }
   ],
   "source": [
    "np.random.seed(1) # for reproducibility\n",
    "\n",
    "warnings.filterwarnings(\"ignore\")\n",
    "\n",
    "# 5-fold CV grid search\n",
    "lreg_params = {\"solver\": [\"lbgfs\", \"liblinear\", \"saga\", \"sag\", \"newton-cholesky\"]}\n",
    "lreg_gs = GridSearchCV(LogisticRegression(class_weight=class_weights), param_grid=lreg_params, cv=cv).fit(X_train, y_train)\n",
    "\n",
    "# fit logistic regression model and make predictions\n",
    "lreg_model = LogisticRegression(**lreg_gs.best_params_).fit(X_train, y_train)\n",
    "predictions = lreg_model.predict(X_test)\n",
    "\n",
    "# performance metrics\n",
    "print(\"Logistic Regression\")\n",
    "print(f\"Accuracy: {accuracy_score(predictions, y_test)}\\nPrecision: {precision_score(predictions, y_test, average='weighted')}\")\n",
    "print(f\"Recall: {recall_score(predictions, y_test, average='weighted')}\\nF1 Score: {f1_score(predictions, y_test, average='weighted')}\")"
   ]
  },
  {
   "cell_type": "markdown",
   "metadata": {},
   "source": [
    "Interestingly, in terms of accuracy, recall, and F1 score, none of the ensemble methods performed the best. AdaBoost however did perform the best in terms of precision.\n",
    "\n",
    "Logistic regression performed the best in terms of accuracy, recall, and F1 score. \n",
    "\n",
    "Using the SVD predictors, logistic regression would be the best classification model due to its predictive power and ability to minimize the number of incorrectly classified points since it has the best balance of precision and recall. This is very important metric for the classification imbalances we have, as seen in the EDA file."
   ]
  }
 ],
 "metadata": {
  "kernelspec": {
   "display_name": "base",
   "language": "python",
   "name": "python3"
  },
  "language_info": {
   "codemirror_mode": {
    "name": "ipython",
    "version": 3
   },
   "file_extension": ".py",
   "mimetype": "text/x-python",
   "name": "python",
   "nbconvert_exporter": "python",
   "pygments_lexer": "ipython3",
   "version": "3.11.8"
  }
 },
 "nbformat": 4,
 "nbformat_minor": 2
}
